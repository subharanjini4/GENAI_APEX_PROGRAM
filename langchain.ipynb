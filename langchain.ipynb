{
  "nbformat": 4,
  "nbformat_minor": 0,
  "metadata": {
    "colab": {
      "provenance": [],
      "authorship_tag": "ABX9TyPd80LMUpoSWzkG8ogrwpWd",
      "include_colab_link": true
    },
    "kernelspec": {
      "name": "python3",
      "display_name": "Python 3"
    },
    "language_info": {
      "name": "python"
    }
  },
  "cells": [
    {
      "cell_type": "markdown",
      "metadata": {
        "id": "view-in-github",
        "colab_type": "text"
      },
      "source": [
        "<a href=\"https://colab.research.google.com/github/subharanjini4/GENAI_APEX_PROGRAM/blob/main/langchain.ipynb\" target=\"_parent\"><img src=\"https://colab.research.google.com/assets/colab-badge.svg\" alt=\"Open In Colab\"/></a>"
      ]
    },
    {
      "cell_type": "code",
      "execution_count": 1,
      "metadata": {
        "id": "552mNlwJQHnt"
      },
      "outputs": [],
      "source": [
        "from langchain.prompts import PromptTemplate"
      ]
    },
    {
      "cell_type": "code",
      "source": [
        "%pip install --upgrade --quiet langchain-google-genai"
      ],
      "metadata": {
        "colab": {
          "base_uri": "https://localhost:8080/"
        },
        "id": "8Y7YMp3lQYYs",
        "outputId": "3466e45c-1fc0-4ef5-e34b-4ff3c646dee2"
      },
      "execution_count": 2,
      "outputs": [
        {
          "output_type": "stream",
          "name": "stdout",
          "text": [
            "\u001b[?25l   \u001b[90m━━━━━━━━━━━━━━━━━━━━━━━━━━━━━━━━━━━━━━━━\u001b[0m \u001b[32m0.0/41.3 kB\u001b[0m \u001b[31m?\u001b[0m eta \u001b[36m-:--:--\u001b[0m\r\u001b[2K   \u001b[90m━━━━━━━━━━━━━━━━━━━━━━━━━━━━━━━━━━━━━━━━\u001b[0m \u001b[32m41.3/41.3 kB\u001b[0m \u001b[31m1.8 MB/s\u001b[0m eta \u001b[36m0:00:00\u001b[0m\n",
            "\u001b[?25h"
          ]
        }
      ]
    },
    {
      "cell_type": "code",
      "source": [
        "from langchain_google_genai import GoogleGenerativeAI"
      ],
      "metadata": {
        "id": "IAJNa3ujQli0"
      },
      "execution_count": 4,
      "outputs": []
    },
    {
      "cell_type": "code",
      "source": [
        "from google.colab import userdata\n",
        "key=userdata.get('google.api.key')"
      ],
      "metadata": {
        "id": "HoYhwAqnQ2Kg"
      },
      "execution_count": 5,
      "outputs": []
    },
    {
      "cell_type": "code",
      "source": [
        "model=GoogleGenerativeAI(model=\"gemini-pro\",google_api_key=key)"
      ],
      "metadata": {
        "id": "sayegcmwRHCa"
      },
      "execution_count": 6,
      "outputs": []
    },
    {
      "cell_type": "code",
      "source": [
        "demo_template=\"\"\"write a {Language} function to perform sum of series of n numbers\"\"\""
      ],
      "metadata": {
        "id": "wgj88zNuTWBV"
      },
      "execution_count": 14,
      "outputs": []
    },
    {
      "cell_type": "code",
      "source": [
        "prompt=PromptTemplate(input_variable=[\"Language\"],template=demo_template)"
      ],
      "metadata": {
        "id": "v5QpvfdUTrrp"
      },
      "execution_count": 15,
      "outputs": []
    },
    {
      "cell_type": "code",
      "source": [
        "prompt.format(Language=\"python\")"
      ],
      "metadata": {
        "colab": {
          "base_uri": "https://localhost:8080/",
          "height": 35
        },
        "id": "IPCBJLB5T8Fj",
        "outputId": "6b310e1d-6687-4d5f-a10b-bd244fbf933a"
      },
      "execution_count": 18,
      "outputs": [
        {
          "output_type": "execute_result",
          "data": {
            "text/plain": [
              "'write apython function to perform sum of series of n numbers'"
            ],
            "application/vnd.google.colaboratory.intrinsic+json": {
              "type": "string"
            }
          },
          "metadata": {},
          "execution_count": 18
        }
      ]
    },
    {
      "cell_type": "code",
      "source": [
        "demo_template=\"\"\"you are expert in {programming}.{query}\"\"\""
      ],
      "metadata": {
        "id": "_3y4EQE-Uxgt"
      },
      "execution_count": 20,
      "outputs": []
    },
    {
      "cell_type": "code",
      "source": [
        "prompt=PromptTemplate(input_variable=[\"programming\",\"query\"],template=demo_template)"
      ],
      "metadata": {
        "id": "6isCDcQGVBuV"
      },
      "execution_count": 21,
      "outputs": []
    },
    {
      "cell_type": "code",
      "source": [
        "prompt_text=prompt.format(programming=\"python\",query=\"write a function to perform sum of n numbers\")"
      ],
      "metadata": {
        "id": "2R4OpzkjVaUj"
      },
      "execution_count": 22,
      "outputs": []
    },
    {
      "cell_type": "code",
      "source": [
        "res=model.invoke(prompt_text)"
      ],
      "metadata": {
        "id": "OMHlAN8-VvC7"
      },
      "execution_count": 23,
      "outputs": []
    },
    {
      "cell_type": "code",
      "source": [
        "print(res)"
      ],
      "metadata": {
        "colab": {
          "base_uri": "https://localhost:8080/"
        },
        "id": "K1umic0bV42l",
        "outputId": "79d8f4f1-3a1d-4ff6-f6b8-23861b1c05ad"
      },
      "execution_count": 24,
      "outputs": [
        {
          "output_type": "stream",
          "name": "stdout",
          "text": [
            "```python\n",
            "def sum_of_n_numbers(n):\n",
            "  \"\"\"\n",
            "  This function returns the sum of the first n natural numbers.\n",
            "\n",
            "  Parameters:\n",
            "    n: The number of natural numbers to sum.\n",
            "\n",
            "  Returns:\n",
            "    The sum of the first n natural numbers.\n",
            "  \"\"\"\n",
            "\n",
            "  # Initialize the sum to 0.\n",
            "  sum = 0\n",
            "\n",
            "  # Iterate over the numbers from 1 to n.\n",
            "  for i in range(1, n + 1):\n",
            "    # Add the current number to the sum.\n",
            "    sum += i\n",
            "\n",
            "  # Return the sum.\n",
            "  return sum\n",
            "```\n"
          ]
        }
      ]
    },
    {
      "cell_type": "code",
      "source": [
        "model"
      ],
      "metadata": {
        "colab": {
          "base_uri": "https://localhost:8080/"
        },
        "id": "FnJqHf36RXYF",
        "outputId": "f57ad6dd-a503-4a91-a67d-d39da69e2bf8"
      },
      "execution_count": 7,
      "outputs": [
        {
          "output_type": "execute_result",
          "data": {
            "text/plain": [
              "GoogleGenerativeAI(model='gemini-pro', google_api_key=SecretStr('**********'), client=genai.GenerativeModel(\n",
              "    model_name='models/gemini-pro',\n",
              "    generation_config={},\n",
              "    safety_settings={},\n",
              "    tools=None,\n",
              "    system_instruction=None,\n",
              "    cached_content=None\n",
              "))"
            ]
          },
          "metadata": {},
          "execution_count": 7
        }
      ]
    },
    {
      "cell_type": "code",
      "source": [
        "res=model.invoke(\"write a python function to perform sum of series of n numbers\")"
      ],
      "metadata": {
        "id": "7AQ3eRGaRaty"
      },
      "execution_count": 10,
      "outputs": []
    },
    {
      "cell_type": "code",
      "source": [
        "print(res)"
      ],
      "metadata": {
        "colab": {
          "base_uri": "https://localhost:8080/"
        },
        "id": "0ntU7bXGRzvl",
        "outputId": "e0727be1-21d6-48ef-b442-716833d4f840"
      },
      "execution_count": 11,
      "outputs": [
        {
          "output_type": "stream",
          "name": "stdout",
          "text": [
            "```python\n",
            "def sum_of_series(n):\n",
            "  \"\"\"Calculates the sum of the series 1 + 2 + 3 + ... + n.\n",
            "\n",
            "  Args:\n",
            "    n: The number of terms in the series.\n",
            "\n",
            "  Returns:\n",
            "    The sum of the series.\n",
            "  \"\"\"\n",
            "\n",
            "  # Initialize the sum to 0.\n",
            "  sum = 0\n",
            "\n",
            "  # Iterate over the numbers from 1 to n.\n",
            "  for i in range(1, n + 1):\n",
            "    # Add the current number to the sum.\n",
            "    sum += i\n",
            "\n",
            "  # Return the sum.\n",
            "  return sum\n",
            "```\n"
          ]
        }
      ]
    },
    {
      "cell_type": "code",
      "source": [
        "res=model.invoke(\"write a java function to perform sum of series of n numbers\")"
      ],
      "metadata": {
        "id": "YdaUkh1hTCri"
      },
      "execution_count": 12,
      "outputs": []
    },
    {
      "cell_type": "code",
      "source": [
        "print(res)"
      ],
      "metadata": {
        "colab": {
          "base_uri": "https://localhost:8080/"
        },
        "id": "-BLuEtCwTJhZ",
        "outputId": "fdc38f88-bd3a-4474-c9c0-168846184b51"
      },
      "execution_count": 13,
      "outputs": [
        {
          "output_type": "stream",
          "name": "stdout",
          "text": [
            "```java\n",
            "import java.util.Scanner;\n",
            "\n",
            "public class SumOfSeries {\n",
            "\n",
            "    public static void main(String[] args) {\n",
            "        Scanner input = new Scanner(System.in);\n",
            "\n",
            "        // Get the number of terms in the series\n",
            "        System.out.print(\"Enter the number of terms: \");\n",
            "        int n = input.nextInt();\n",
            "\n",
            "        // Calculate the sum of the series\n",
            "        int sum = 0;\n",
            "        for (int i = 1; i <= n; i++) {\n",
            "            sum += i;\n",
            "        }\n",
            "\n",
            "        // Print the sum of the series\n",
            "        System.out.println(\"The sum of the series is: \" + sum);\n",
            "    }\n",
            "}\n",
            "```\n"
          ]
        }
      ]
    }
  ]
}